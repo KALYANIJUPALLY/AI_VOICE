{
 "cells": [
  {
   "cell_type": "code",
   "execution_count": null,
   "metadata": {
    "colab": {
     "base_uri": "https://localhost:8080/"
    },
    "id": "sG-75_4Rypzl",
    "outputId": "b9e5bda8-cc63-444d-f741-b19e75adfc1c"
   },
   "outputs": [],
   "source": [
    "!pip install tortoise-tts torch torchaudio numpy scipy librosa soundfile"
   ]
  },
  {
   "cell_type": "code",
   "execution_count": null,
   "metadata": {
    "colab": {
     "base_uri": "https://localhost:8080/",
     "height": 73
    },
    "id": "PwglwAkjytf-",
    "outputId": "d213c454-0054-4bd5-8a94-42ca5cec0491"
   },
   "outputs": [],
   "source": [
    "from google.colab import files\n",
    "uploaded = files.upload()"
   ]
  },
  {
   "cell_type": "code",
   "execution_count": null,
   "metadata": {
    "colab": {
     "base_uri": "https://localhost:8080/",
     "height": 797,
     "referenced_widgets": [
      "7d4a6a2f30844b628fc921c1c99d9b44",
      "77a644c6e5a342eb9b88f5b582e7631e",
      "842f1d0664ae48ba84ec46e4b9b0dc79",
      "e042737dd72f46f9a9a9df64722328b3",
      "2539e6b96f9a4de1aab6effb6cbda048",
      "f8df9f712e024be79e9a7dd24c704b30",
      "943a8c09ea7c4121b72fd889b6d6c677",
      "63ca86b8aae64c48be63acc9dd2adc2e",
      "2034b053ced842bba6e6c4374345bd50",
      "d3877ea946994d6686b7268bbabcf145",
      "16263f6d345a42ef8a7da5a00f909e7a",
      "09397c9e6772428da8d201a2dce87dd2",
      "2704eae2a76b41fe9ac4369045c8d8f0",
      "72c639bba04849d4a9120ef945cb756f",
      "e7175142189f43cb8fef9de1f8397176",
      "65885e9f3b224add8cebb271c62f477e",
      "78330bf32f1d457b8a37b74111fdfeda",
      "9e3c1b74d2994a78a17c6c67dd7bad1c",
      "fca60c2b3c574c4c9218aa27c9706030",
      "57b65f7c05bd4e50b2dd14c8495a2be9",
      "81902098e3df4605801f1e2ef3e53e62",
      "c4a6184233bd4e25abb1b6911f3cf10c",
      "6f11444e8343469c9252559d74733730",
      "15be45ab78dc4211a66ae9fa283eecef",
      "10ed62c096094add90ef617d14b90b9a",
      "6dab3a13d92c4f2ba6780c1f4e564aba",
      "e0c10aae18464040b69cc63ae17c615a",
      "b9684c66ca984d998cd19d3a4974c940",
      "63bf828ec3ed43819d4ee6f9f665a882",
      "f42c5feed3994122b9e8a57d3f3d5478",
      "ba68d55982694574b57b4d4a31bfd0f4",
      "d3d31efe16d6473fa2f580d0ee967da2",
      "d9fe2c4169b3471080925497e6f140e6",
      "6ea4f940786441399bff890bb924183a",
      "270c798a9dbe4422bb99e9f15dbf2e39",
      "1e1ae15998f14f56ae9bf9d6596aaa09",
      "7d9c94dd2e5748e583a957fb5d078252",
      "6057ae603b6c430d9b0dfeb4f7d2c5d0",
      "6aa1310aa1064969a72e50dd2f20046e",
      "cd0eda1f6bad401fb8f9f401c56b3ad5",
      "178d66b823a549f4915cfcbd7a3bcc67",
      "54661c0433f2448fbe7174be7f623ed0",
      "b32298b4ce4347ce9c6c5676118a44e6",
      "7185482d50ae435592b5d79cce5ee0a9",
      "52da0b3d0c564afbb3270343ab130a78",
      "ed43de08960749b4a7ddb5f3cfa77db8",
      "f4fd514e4286447bbc69fe64b4b22328",
      "8b01dfd3b5a348e1976a8f1be5858002",
      "911daedd409844f8bd538a28fe5ab228",
      "c6c2d076f8e8457dbabb63c5cbfd1ece",
      "1fbc6f1a2a7f41bcba7e52d3842bdd45",
      "2d519dd4f31e4a18bbcebd0e6a830ec3",
      "d829dfcf3d3a4fd8834b7184a1d589a8",
      "467cf566b7a0487dbabe9a5e7f49a684",
      "b045b41335314aaf9529a70ea6391965",
      "0f66cb2d67bc4a238f2fb0061a1902f0",
      "3baf34ab9ba24cee83b6955d14c71332",
      "e726485572144117b4f3490121ab8af4",
      "e34265e78cf84f729db506f3f1882907",
      "9e08afffd0964e86a01eaf34c025c784",
      "60bd17432e21436687433c33b15f88fd",
      "40e65d14c13f44128b6f5ac97380516d",
      "b9c184acd61f4758890187c40f9b1084",
      "a93982de58f94d349dba80dc767453f8",
      "48ae860b61154b20b6bfb74e04ab5f30",
      "9b70ed21acea472a9815595c082ae244",
      "9daffd267cd743ea86bd1a543d459d80",
      "c3cf3862e70c4650939cfaee0813702a",
      "eae1763a08da45a79c3f2ba5cf755965",
      "759049e96163431884e20fb7a34da10c",
      "a2756d1dbc7744aa85abcca9c3fb21b0",
      "60e2530e6be8468099acaf237657e188",
      "8631e9a4df5347248dca9f10972a9063",
      "d86df3a05e4b400ea5163e32bdd88752",
      "d80d2a27613b41b48b99c8bf58634594",
      "aba89d8f7bc3410c972a70ac0488c26a",
      "364dadb513d6438bac687197a1b6e929",
      "2d68c97d6c414c85870c6b5b663aef73",
      "2ca59e4bb45a419da45113cb05679619",
      "6cf552fb0ff548d18ba610cf5dea3a9a",
      "76e3f6e26d9e42b3803c9eefd0994cd3",
      "d3e06898883f4f948742f94328db366b",
      "f0515fc3635d4a9c9782ce2f7e94f2b8",
      "288b45860c1d4b9fb9fc58c9b24d4b03",
      "298e9c4a94e1462b9874eaee03d0779e",
      "1379327ca1a94ab0b33cea8de884ccce",
      "6243e3096cef4a6d8cc3a016c5050245",
      "8de14a31bcf84641a5996e4eb4b2049a",
      "4e2697d9850b44719ab9094a4d819982",
      "d89519b011cb4cd1918430dc80326776",
      "26033d28cdba49d4a25e0d871172aa2a",
      "c7ce7a7de15e488fa50ec5515545a85b",
      "d424205c9fbb4bf9be3e420c649b831f",
      "0fca218b5aef4f4581ee8b1a17e48386",
      "e1e6796545d3496e96fc46959365d50d",
      "6a7e4b46b28147c5b095dfc9c26675ed",
      "cc84c592dad44b66938a63a2d1f9f517",
      "a1b9e6391fbe47a1be8e93e22ae34278",
      "f166b70d60774cb1b2474aae70809a29",
      "13e33dae633a4af7a6b65719a897928f",
      "4bd050d4df4740e5b9ecf7edc4146156",
      "d7fa1fa5ae3745e9914539bfe4c6c583",
      "54093469a47f46fb9404d44c9ac4ecb8",
      "7fcfb4ba1a6241d49c3b0b0e5e8adaa8",
      "193363152d6d42028fb038932408fe73",
      "c4ae77d119f34f20af80de54fec7d773",
      "87edb537c4ff421999beb555d093c800",
      "7d2139c9064e466bac974c9fd91b02ac",
      "acd5be2d0652474aaf026965376ccacf",
      "531142a1aef54e1495e31094c141f3d2"
     ]
    },
    "id": "KXcK4CTKzZYG",
    "outputId": "6038c818-5068-4342-9de2-d417886650e5"
   },
   "outputs": [],
   "source": [
    "# Import necessary libraries\n",
    "from tortoise.api import TextToSpeech\n",
    "from tortoise.utils.audio import load_audio\n",
    "from IPython.display import Audio\n",
    "import torch  # Import torch\n",
    "import torchaudio  # Import torchaudio\n",
    "\n",
    "# Initialize the TTS model\n",
    "tts = TextToSpeech()\n",
    "\n",
    "# Load your voice sample\n",
    "voice_samples = [load_audio(\"test1.wav\", 22050)]\n",
    "\n",
    "# Text to be spoken in your voice\n",
    "text = \"Hello, this is my cloned voice. How do I sound?\"\n",
    "\n",
    "# Generate audio\n",
    "voice = tts.tts_with_preset(text, voice_samples=voice_samples, preset=\"fast\")\n",
    "\n",
    "# Convert the tensor to a numpy array\n",
    "audio_numpy = voice.squeeze().cpu().numpy()  # Convert tensor to numpy array\n",
    "sample_rate = 22050  # Sample rate for Tortoise-TTS\n",
    "\n",
    "# Save the output\n",
    "torchaudio.save(\"cloned_voice.wav\", torch.tensor(audio_numpy).unsqueeze(0), sample_rate)\n",
    "\n",
    "print(\"Voice cloning complete! Playing the output...\")\n",
    "Audio(\"cloned_voice.wav\")"
   ]
  },
  {
   "cell_type": "code",
   "execution_count": null,
   "metadata": {
    "id": "--SW17iqBMqp"
   },
   "outputs": [],
   "source": []
  }
 ],
 "metadata": {
  "accelerator": "GPU",
  "colab": {
   "gpuType": "T4",
   "provenance": []
  },
  "kernelspec": {
   "display_name": "Python 3 (ipykernel)",
   "language": "python",
   "name": "python3"
  },
  "language_info": {
   "codemirror_mode": {
    "name": "ipython",
    "version": 3
   },
   "file_extension": ".py",
   "mimetype": "text/x-python",
   "name": "python",
   "nbconvert_exporter": "python",
   "pygments_lexer": "ipython3",
   "version": "3.12.4"
  }
 },
 "nbformat": 4,
 "nbformat_minor": 4
}
